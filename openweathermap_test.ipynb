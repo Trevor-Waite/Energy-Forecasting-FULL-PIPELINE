{
 "cells": [
  {
   "cell_type": "code",
   "execution_count": 98,
   "metadata": {},
   "outputs": [
    {
     "data": {
      "text/plain": [
       "\" \\ncityid = 6167865\\napikey = 'a5bbf571539ed962c45eafc7aaf47d0a'\\nurl = 'http://api.openweathermap.org/data/2.5/forecast?id={}&APPID={}'.format(cityid,apikey)\\n\\nres = requests.get(url)\\ndata = res.json()\\ndf = json_normalize(data)\\n\""
      ]
     },
     "execution_count": 98,
     "metadata": {},
     "output_type": "execute_result"
    }
   ],
   "source": [
    "import numpy as np\n",
    "import pandas as pd\n",
    "import openweathermapy.core as own\n",
    "from datetime import datetime as dt\n",
    "''' \n",
    "cityid = 6167865\n",
    "apikey = 'a5bbf571539ed962c45eafc7aaf47d0a'\n",
    "url = 'http://api.openweathermap.org/data/2.5/forecast?id={}&APPID={}'.format(cityid,apikey)\n",
    "\n",
    "res = requests.get(url)\n",
    "data = res.json()\n",
    "df = json_normalize(data)\n",
    "'''"
   ]
  },
  {
   "cell_type": "code",
   "execution_count": 99,
   "metadata": {},
   "outputs": [],
   "source": [
    "data = own.get_forecast_hourly(\"Toronto,CA\", APPID = 'a5bbf571539ed962c45eafc7aaf47d0a', units='metric')"
   ]
  },
  {
   "cell_type": "code",
   "execution_count": 100,
   "metadata": {
    "scrolled": true
   },
   "outputs": [],
   "source": [
    "conv = {\"dt\": lambda ts: str(dt.utcfromtimestamp(ts))}\n",
    "\n",
    "selection = data.select(['dt','main.temp'], converters=conv)"
   ]
  },
  {
   "cell_type": "code",
   "execution_count": 101,
   "metadata": {},
   "outputs": [],
   "source": [
    "datelist = pd.date_range(selection[0][0],periods=24*5, freq ='h')"
   ]
  },
  {
   "cell_type": "code",
   "execution_count": 102,
   "metadata": {},
   "outputs": [],
   "source": [
    "df1 = pd.DataFrame(datelist,columns=['Date'])\n",
    "df1.set_index('Date',drop=True,inplace=True)\n",
    "df2 = pd.DataFrame(selection,columns=['Date','Temp'])\n",
    "df2.set_index('Date',drop=True,inplace=True)"
   ]
  },
  {
   "cell_type": "code",
   "execution_count": 103,
   "metadata": {},
   "outputs": [],
   "source": [
    "results = df1.join(df2,how='left')"
   ]
  },
  {
   "cell_type": "code",
   "execution_count": 104,
   "metadata": {},
   "outputs": [],
   "source": [
    "results = results.interpolate()"
   ]
  },
  {
   "cell_type": "code",
   "execution_count": 105,
   "metadata": {},
   "outputs": [
    {
     "data": {
      "text/html": [
       "<div>\n",
       "<style scoped>\n",
       "    .dataframe tbody tr th:only-of-type {\n",
       "        vertical-align: middle;\n",
       "    }\n",
       "\n",
       "    .dataframe tbody tr th {\n",
       "        vertical-align: top;\n",
       "    }\n",
       "\n",
       "    .dataframe thead th {\n",
       "        text-align: right;\n",
       "    }\n",
       "</style>\n",
       "<table border=\"1\" class=\"dataframe\">\n",
       "  <thead>\n",
       "    <tr style=\"text-align: right;\">\n",
       "      <th></th>\n",
       "      <th>Temp</th>\n",
       "    </tr>\n",
       "    <tr>\n",
       "      <th>Date</th>\n",
       "      <th></th>\n",
       "    </tr>\n",
       "  </thead>\n",
       "  <tbody>\n",
       "    <tr>\n",
       "      <th>2018-06-22 00:00:00</th>\n",
       "      <td>18.950000</td>\n",
       "    </tr>\n",
       "    <tr>\n",
       "      <th>2018-06-22 01:00:00</th>\n",
       "      <td>17.680000</td>\n",
       "    </tr>\n",
       "    <tr>\n",
       "      <th>2018-06-22 02:00:00</th>\n",
       "      <td>16.410000</td>\n",
       "    </tr>\n",
       "    <tr>\n",
       "      <th>2018-06-22 03:00:00</th>\n",
       "      <td>15.140000</td>\n",
       "    </tr>\n",
       "    <tr>\n",
       "      <th>2018-06-22 04:00:00</th>\n",
       "      <td>14.443333</td>\n",
       "    </tr>\n",
       "  </tbody>\n",
       "</table>\n",
       "</div>"
      ],
      "text/plain": [
       "                          Temp\n",
       "Date                          \n",
       "2018-06-22 00:00:00  18.950000\n",
       "2018-06-22 01:00:00  17.680000\n",
       "2018-06-22 02:00:00  16.410000\n",
       "2018-06-22 03:00:00  15.140000\n",
       "2018-06-22 04:00:00  14.443333"
      ]
     },
     "execution_count": 105,
     "metadata": {},
     "output_type": "execute_result"
    }
   ],
   "source": [
    "results.head()"
   ]
  },
  {
   "cell_type": "code",
   "execution_count": null,
   "metadata": {},
   "outputs": [],
   "source": []
  }
 ],
 "metadata": {
  "kernelspec": {
   "display_name": "Python 3",
   "language": "python",
   "name": "python3"
  },
  "language_info": {
   "codemirror_mode": {
    "name": "ipython",
    "version": 3
   },
   "file_extension": ".py",
   "mimetype": "text/x-python",
   "name": "python",
   "nbconvert_exporter": "python",
   "pygments_lexer": "ipython3",
   "version": "3.6.4"
  }
 },
 "nbformat": 4,
 "nbformat_minor": 2
}
